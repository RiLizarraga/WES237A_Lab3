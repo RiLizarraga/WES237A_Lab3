{
 "cells": [
  {
   "cell_type": "code",
   "execution_count": 2,
   "id": "f6c90f39",
   "metadata": {},
   "outputs": [
    {
     "name": "stdout",
     "output_type": "stream",
     "text": [
      "enter CPU number (0/1)?1\n",
      "taskset -c 1 python3 fib.py\n",
      "time spent: 545.3948810100555\n"
     ]
    },
    {
     "data": {
      "text/plain": [
       "0"
      ]
     },
     "execution_count": 2,
     "metadata": {},
     "output_type": "execute_result"
    }
   ],
   "source": [
    "import os\n",
    "cpu = input('enter CPU number (0/1)?')\n",
    "str = \"taskset -c \"+cpu+\" python3 fib.py\"\n",
    "print(str)\n",
    "os.system(str)"
   ]
  },
  {
   "cell_type": "code",
   "execution_count": null,
   "id": "fbbf93a0",
   "metadata": {},
   "outputs": [],
   "source": []
  }
 ],
 "metadata": {
  "kernelspec": {
   "display_name": "Python 3 (ipykernel)",
   "language": "python",
   "name": "python3"
  },
  "language_info": {
   "codemirror_mode": {
    "name": "ipython",
    "version": 3
   },
   "file_extension": ".py",
   "mimetype": "text/x-python",
   "name": "python",
   "nbconvert_exporter": "python",
   "pygments_lexer": "ipython3",
   "version": "3.10.4"
  }
 },
 "nbformat": 4,
 "nbformat_minor": 5
}
